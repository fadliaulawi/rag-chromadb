{
 "cells": [
  {
   "cell_type": "markdown",
   "metadata": {},
   "source": [
    "![Query Expansion](assets/query_expansion.png \"Query Expansion\")"
   ]
  },
  {
   "cell_type": "code",
   "execution_count": 1,
   "metadata": {},
   "outputs": [
    {
     "name": "stderr",
     "output_type": "stream",
     "text": [
      "c:\\nico\\internship\\kalbe\\PRICAI\\rag-kak-pricai\\env\\lib\\site-packages\\pinecone\\data\\index.py:1: TqdmWarning: IProgress not found. Please update jupyter and ipywidgets. See https://ipywidgets.readthedocs.io/en/stable/user_install.html\n",
      "  from tqdm.autonotebook import tqdm\n"
     ]
    }
   ],
   "source": [
    "from helper_utils import word_wrap, project_embeddings\n",
    "from pinecone import Pinecone\n",
    "import os\n",
    "import openai\n",
    "from openai import OpenAI\n",
    "from dotenv import load_dotenv\n",
    "import umap"
   ]
  },
  {
   "cell_type": "code",
   "execution_count": 2,
   "metadata": {},
   "outputs": [],
   "source": [
    "pc = Pinecone(api_key=os.environ['PINECONE_API_KEY'])\n",
    "index = pc.Index(\"rag-kak\")"
   ]
  },
  {
   "cell_type": "code",
   "execution_count": 3,
   "metadata": {},
   "outputs": [],
   "source": [
    "load_dotenv()\n",
    "openai.api_key = os.environ['OPENAI_API_KEY']\n",
    "\n",
    "openai_client = OpenAI()"
   ]
  },
  {
   "cell_type": "code",
   "execution_count": 4,
   "metadata": {},
   "outputs": [],
   "source": [
    "def embedding_function(text, model=\"text-embedding-ada-002\"):\n",
    "    \n",
    "    response = openai_client.embeddings.create(\n",
    "        input=text,\n",
    "        model=model\n",
    "    )\n",
    "    \n",
    "    embedding = response.data[0].embedding\n",
    "    \n",
    "    return embedding"
   ]
  },
  {
   "cell_type": "code",
   "execution_count": 9,
   "metadata": {},
   "outputs": [],
   "source": [
    "def augment_query_generated(query, model=\"gpt-4o\"):\n",
    "    messages = [\n",
    "        {\n",
    "            \"role\": \"system\",\n",
    "            \"content\": \"You are a knowledgeable healthcare research assistant. Your users are asking questions about information contained in a healthcare document. You will be shown the user's question and the relevant information from the healthcare document. Answer the question with support of the provided document.\"\n",
    "        },\n",
    "        {\"role\": \"user\", \"content\": query}\n",
    "    ]\n",
    "\n",
    "    response = openai_client.chat.completions.create(\n",
    "        model=model,\n",
    "        messages=messages,\n",
    "    )\n",
    "    content = response.choices[0].message.content\n",
    "    return content"
   ]
  },
  {
   "cell_type": "code",
   "execution_count": 10,
   "metadata": {},
   "outputs": [
    {
     "name": "stdout",
     "output_type": "stream",
     "text": [
      "How can PEGylation improve recombinant drugs? PEGylation can improve\n",
      "recombinant drugs by increasing their solubility, decreasing\n",
      "immunogenicity, protecting from rapid clearance in vivo, and reducing\n",
      "proteolysis.\n"
     ]
    }
   ],
   "source": [
    "original_query = \"How can PEGylation improve recombinant drugs?\"\n",
    "hypothetical_answer = augment_query_generated(original_query)\n",
    "\n",
    "joint_query = f\"{original_query} {hypothetical_answer}\"\n",
    "print(word_wrap(joint_query))"
   ]
  },
  {
   "cell_type": "code",
   "execution_count": 11,
   "metadata": {},
   "outputs": [
    {
     "name": "stdout",
     "output_type": "stream",
     "text": [
      ". recently, small molecule pharmacological chaperones have been shown\n",
      "to increase protein stability and cellular levels for mutant lysosomal\n",
      "enzymes and have emerged as a new therapeutic strategy for the\n",
      "treatment of lsds.\n",
      "\n",
      "appropriate patient enrichment combination with chemotherapy may\n",
      "ultimately prove successful in improving overall survival and novel\n",
      "agents targeting multiple proangiogenic pathways may prove effective.\n",
      "\n",
      "conclusions : pegylated liposomal doxorubicin administered alone or in\n",
      "combination with tamoxifen is safe and moderately effective in patients\n",
      "with recurrent high - grade glioma.\n",
      "\n",
      "therapeutics that have proven to be highly effective include the\n",
      "immunomodulatory drug thalidomide and its newer analogs, lenalidomide\n",
      "and pomalidomide, as well as the proteasome inhibitors bortezomib and\n",
      "carfilzomib\n",
      "\n",
      "anti - cd3 teplizumab and anti - cd3 otelixizumab have been shown to\n",
      "provide c - peptide preservation.\n",
      "\n"
     ]
    }
   ],
   "source": [
    "results = index.query(\n",
    "    vector=embedding_function(joint_query),\n",
    "    top_k=5,\n",
    "    include_metadata=True\n",
    ")['matches']\n",
    "\n",
    "for dicts in results:\n",
    "    print(word_wrap(dicts['metadata']['text']))\n",
    "    print('')"
   ]
  },
  {
   "cell_type": "markdown",
   "metadata": {},
   "source": [
    "# Multiple Query Expansion"
   ]
  },
  {
   "cell_type": "markdown",
   "metadata": {},
   "source": [
    "![Query Expansion](assets/query_expansion_multi.png \"Query Expansion\")"
   ]
  },
  {
   "cell_type": "code",
   "execution_count": 14,
   "metadata": {},
   "outputs": [],
   "source": [
    "def augment_multiple_query(query, model=\"gpt-4o\"):\n",
    "    messages = [\n",
    "        {\n",
    "            \"role\": \"system\",\n",
    "            \"content\": \"You are a knowledgeable healthcare research assistant. Your users are asking questions about information contained in a healthcare document.\"\n",
    "            \"Suggest up to four additional related questions to help them find the information they need, for the provided question. \"\n",
    "            \"Suggest only short questions without compound sentences. Suggest a variety of questions that cover different aspects of the topic.\"\n",
    "            \"Make sure they are complete questions, and that they are related to the original question.\"\n",
    "            \"Output one question per line. Do not number the questions.\"\n",
    "        },\n",
    "        {\"role\": \"user\", \"content\": query}\n",
    "    ]\n",
    "\n",
    "    response = openai_client.chat.completions.create(\n",
    "        model=model,\n",
    "        messages=messages,\n",
    "    )\n",
    "    content = response.choices[0].message.content\n",
    "    content = content.split(\"\\n\")\n",
    "    return content"
   ]
  },
  {
   "cell_type": "code",
   "execution_count": 15,
   "metadata": {},
   "outputs": [
    {
     "name": "stdout",
     "output_type": "stream",
     "text": [
      "What are the common methods of PEGylation?\n",
      "What are the potential side effects of PEGylated drugs?\n",
      "How does PEGylation enhance the stability of recombinant drugs?\n",
      "Can PEGylation impact the immunogenicity of recombinant drugs?\n",
      "What specific diseases can be treated more effectively with PEGylated recombinant drugs?\n"
     ]
    }
   ],
   "source": [
    "original_query = \"How can PEGylation improve recombinant drugs?\"\n",
    "augmented_queries = augment_multiple_query(original_query)\n",
    "\n",
    "for query in augmented_queries:\n",
    "    print(query)"
   ]
  },
  {
   "cell_type": "code",
   "execution_count": 39,
   "metadata": {},
   "outputs": [
    {
     "name": "stdout",
     "output_type": "stream",
     "text": [
      "increased antigenicity following selumetinib and ifn treatment warrants\n",
      "further study for immunotherapy of progressive ptc.\n",
      ". the effects of\n",
      "rg7112 and peg - ifnα 2a on mpn progenitor cells were dependent on\n",
      "blocking p53 - mdm2 interactions and activating the p53 pathway,\n",
      "thereby increasing mpn cd34 ( + ) cell apoptosis.\n",
      "with envelope\n",
      "proteins engineered to bind to this therapeutic antibody\n",
      "the effects of\n",
      "rg7112 and peg - ifnα 2a on mpn progenitor cells were dependent on\n",
      "blocking p53 - mdm2 interactions and activating the p53 pathway,\n",
      "thereby increasing mpn cd34 ( + ) cell apoptosis\n",
      "we here delineated the\n",
      "molecular and cellular mechanisms underlying novel immunomodulatory\n",
      "effects triggered by bcma pyrrolobenzodiazepine ( pbd ) antibody drug\n",
      "conjugate ( adc ) medi2228 which can augment efficacy of these\n",
      "immunotherapies.\n",
      "\n",
      "--------------------------------------------------------------------------------------------------------------------------------------------------------------------------------------------------------\n",
      "however, some serious side effects, including severe anion gap\n",
      "metabolic acidosis and euglycemic diabetic ketoacidosis ( dka ), have\n",
      "been reported.\n",
      "in the gb cohort, the most common side effects were\n",
      "fatigue ( 56 % ), diarrhea ( 44 % ), neutropenia ( 31 % ), and\n",
      "thrombocytopenia ( 25 % ).\n",
      "ten episodes of grade 3 / 4 adverse events\n",
      "were observed in nine patients, including fatigue ( n = 3 ),\n",
      "thrombocytopenia ( n = 4 ), and myelotoxicity, febrile neutropenia, and\n",
      "pulmonary embolism ( each n = 1 ).\n",
      "the effects of rg7112 and peg - ifnα\n",
      "2a on mpn progenitor cells were dependent on blocking p53 - mdm2\n",
      "interactions and activating the p53 pathway, thereby increasing mpn\n",
      "cd34 ( + ) cell apoptosis\n",
      "side - effects in all patients have included\n",
      "varying degrees of anorexia, fatigue, ipsilateral forehead dermatitis,\n",
      "blepharitis, and conjunctivitis.\n",
      "\n",
      "--------------------------------------------------------------------------------------------------------------------------------------------------------------------------------------------------------\n",
      "the pharmacological chaperone at2220 increases the specific activity\n",
      "and lysosomal delivery of mutant acid alpha - glucosidase, and promotes\n",
      "glycogen reduction in a transgenic mouse model of pompe disease\n",
      ".\n",
      "recently, small molecule pharmacological chaperones have been shown to\n",
      "increase protein stability and cellular levels for mutant lysosomal\n",
      "enzymes and have emerged as a new therapeutic strategy for the\n",
      "treatment of lsds.\n",
      "conclusions : pegylated liposomal doxorubicin\n",
      "administered alone or in combination with tamoxifen is safe and\n",
      "moderately effective in patients with recurrent high - grade\n",
      "glioma.\n",
      "these results suggest that the n - glycan at asn - 644 of\n",
      "hloxl2 enhances the solubility and stability of the lox catalytic\n",
      "domain.\n",
      "the addition of poly ( a ) tails to eukaryotic nuclear mrnas\n",
      "promotes their stability, export to the cytoplasm and translation.\n",
      "\n",
      "--------------------------------------------------------------------------------------------------------------------------------------------------------------------------------------------------------\n",
      "in this paper, we will review the three of the main classes of ptms\n",
      "already associated with ra : citrullination, carbamylation, and\n",
      "oxidation.\n",
      "in this issue of blood, lu et al describe the cooperation\n",
      "between an orally bioavailable mouse double minute 2 ( mdm2 )\n",
      "antagonist ( rg7112 ) and the pegylated interferon α ( peg - ifnα 2a )\n",
      "to target jak2v617f hematopoietic progenitors and stem cells\n",
      "these\n",
      "methods are utilized to search for inhibitors of the aspartyl\n",
      "proteases, plasmepsin ii and cathepsin d\n",
      "by methylation - specific\n",
      "polymerase chain reaction.\n",
      "ptms of the cytoskeleton, including\n",
      "phosphorylation, glycosylation, ubiquitination, detyrosination /\n",
      "tyrosination, ( poly ) glutamylation and ( poly ) glycylation,\n",
      "acetylation, sumoylation, and palmitoylation, will be addressed in this\n",
      "chapter.\n",
      "\n",
      "--------------------------------------------------------------------------------------------------------------------------------------------------------------------------------------------------------\n",
      ". recently, small molecule pharmacological chaperones have been shown\n",
      "to increase protein stability and cellular levels for mutant lysosomal\n",
      "enzymes and have emerged as a new therapeutic strategy for the\n",
      "treatment of lsds.\n",
      "in this issue of blood, lu et al describe the\n",
      "cooperation between an orally bioavailable mouse double minute 2 ( mdm2\n",
      ") antagonist ( rg7112 ) and the pegylated interferon α ( peg - ifnα 2a\n",
      ") to target jak2v617f hematopoietic progenitors and stem\n",
      "cells\n",
      "conclusions : pegylated liposomal doxorubicin administered alone\n",
      "or in combination with tamoxifen is safe and moderately effective in\n",
      "patients with recurrent high - grade glioma.\n",
      "with envelope proteins\n",
      "engineered to bind to this therapeutic antibody\n",
      "appropriate patient\n",
      "enrichment combination with chemotherapy may ultimately prove\n",
      "successful in improving overall survival and novel agents targeting\n",
      "multiple proangiogenic pathways may prove effective.\n",
      "\n",
      "--------------------------------------------------------------------------------------------------------------------------------------------------------------------------------------------------------\n",
      "therapeutics that have proven to be highly effective include the\n",
      "immunomodulatory drug thalidomide and its newer analogs, lenalidomide\n",
      "and pomalidomide, as well as the proteasome inhibitors bortezomib and\n",
      "carfilzomib\n",
      "in terms of disease - modifying treatment options, several\n",
      "drugs such as dexpramipexole, pioglitazone, lithium, and many others\n",
      "have been tested in large multicenter trials, albeit with disappointing\n",
      "results.\n",
      "diseases, and have been considered novel promising targets for\n",
      "drug design.\n",
      "in this issue of blood, lu et al describe the cooperation\n",
      "between an orally bioavailable mouse double minute 2 ( mdm2 )\n",
      "antagonist ( rg7112 ) and the pegylated interferon α ( peg - ifnα 2a )\n",
      "to target jak2v617f hematopoietic progenitors and stem cells\n",
      "a new\n",
      "frontier to treat this therapeutically challenging subset of advanced\n",
      "egfr mutant patients.\n",
      "\n",
      "--------------------------------------------------------------------------------------------------------------------------------------------------------------------------------------------------------\n"
     ]
    }
   ],
   "source": [
    "queries = [original_query] + augmented_queries\n",
    "results = set()\n",
    "\n",
    "for query in queries:\n",
    "    response = index.query(\n",
    "        vector=embedding_function(query),\n",
    "        top_k=2,\n",
    "        include_metadata=True,\n",
    "    )['matches']\n",
    "    \n",
    "    lst_tmp = set()\n",
    "    for dicts in response:\n",
    "        lst_tmp.add(dicts['metadata']['text'])\n",
    "    \n",
    "    text_holder = \"\"\n",
    "    for text in lst_tmp:\n",
    "        text_holder += text + \"\\n\"\n",
    "    \n",
    "    results.add(text_holder)\n",
    "    \n",
    "for doc in results:\n",
    "    print(word_wrap(doc))\n",
    "    print('-' * 200)"
   ]
  }
 ],
 "metadata": {
  "kernelspec": {
   "display_name": ".venv",
   "language": "python",
   "name": "python3"
  },
  "language_info": {
   "codemirror_mode": {
    "name": "ipython",
    "version": 3
   },
   "file_extension": ".py",
   "mimetype": "text/x-python",
   "name": "python",
   "nbconvert_exporter": "python",
   "pygments_lexer": "ipython3",
   "version": "3.10.6"
  }
 },
 "nbformat": 4,
 "nbformat_minor": 2
}
